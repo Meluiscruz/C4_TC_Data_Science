{
  "nbformat": 4,
  "nbformat_minor": 0,
  "metadata": {
    "colab": {
      "name": "amazon_scraper_boxes_df.ipynb",
      "provenance": [],
      "collapsed_sections": [],
      "authorship_tag": "ABX9TyNSQuZLS9YqjyGD0bsgKp28",
      "include_colab_link": true
    },
    "kernelspec": {
      "name": "python3",
      "display_name": "Python 3"
    }
  },
  "cells": [
    {
      "cell_type": "markdown",
      "metadata": {
        "id": "view-in-github",
        "colab_type": "text"
      },
      "source": [
        "<a href=\"https://colab.research.google.com/github/Meluiscruz/C4_TC_Data_Science/blob/AMZ_testing/amazon_scraper_boxes_df.ipynb\" target=\"_parent\"><img src=\"https://colab.research.google.com/assets/colab-badge.svg\" alt=\"Open In Colab\"/></a>"
      ]
    },
    {
      "cell_type": "code",
      "metadata": {
        "id": "5jqxdm0XjMsf",
        "colab_type": "code",
        "colab": {
          "base_uri": "https://localhost:8080/",
          "height": 128
        },
        "outputId": "4daad8c2-9e7d-400c-e292-ab6148a6008b"
      },
      "source": [
        "from google.colab import drive\n",
        "drive.mount('/content/drive')"
      ],
      "execution_count": 1,
      "outputs": [
        {
          "output_type": "stream",
          "text": [
            "Go to this URL in a browser: https://accounts.google.com/o/oauth2/auth?client_id=947318989803-6bn6qk8qdgf4n4g3pfee6491hc0brc4i.apps.googleusercontent.com&redirect_uri=urn%3aietf%3awg%3aoauth%3a2.0%3aoob&response_type=code&scope=email%20https%3a%2f%2fwww.googleapis.com%2fauth%2fdocs.test%20https%3a%2f%2fwww.googleapis.com%2fauth%2fdrive%20https%3a%2f%2fwww.googleapis.com%2fauth%2fdrive.photos.readonly%20https%3a%2f%2fwww.googleapis.com%2fauth%2fpeopleapi.readonly\n",
            "\n",
            "Enter your authorization code:\n",
            "··········\n",
            "Mounted at /content/drive\n"
          ],
          "name": "stdout"
        }
      ]
    },
    {
      "cell_type": "code",
      "metadata": {
        "id": "JkOUdVioleOP",
        "colab_type": "code",
        "colab": {}
      },
      "source": [
        "from bs4 import BeautifulSoup\n",
        "from openpyxl.workbook import Workbook\n",
        "\n",
        "import os\n",
        "from datetime import datetime\n",
        "import time\n",
        "\n",
        "import requests\n",
        "\n",
        "import pandas as pd"
      ],
      "execution_count": 2,
      "outputs": []
    },
    {
      "cell_type": "code",
      "metadata": {
        "id": "hexz5Z1OOMFb",
        "colab_type": "code",
        "colab": {}
      },
      "source": [
        ""
      ],
      "execution_count": 2,
      "outputs": []
    },
    {
      "cell_type": "code",
      "metadata": {
        "id": "MbFuVtyxOE17",
        "colab_type": "code",
        "colab": {}
      },
      "source": [
        ""
      ],
      "execution_count": 2,
      "outputs": []
    },
    {
      "cell_type": "code",
      "metadata": {
        "id": "vEctUyZylWEZ",
        "colab_type": "code",
        "colab": {}
      },
      "source": [
        "def extract_soup(url, preview=True):\n",
        "    response = requests.get(url)\n",
        "    status = response.status_code\n",
        "\n",
        "    soup = BeautifulSoup(response.text, 'lxml')\n",
        "\n",
        "    if preview==True:\n",
        "        print(soup.prettify())\n",
        "\n",
        "    return soup, status"
      ],
      "execution_count": 3,
      "outputs": []
    },
    {
      "cell_type": "code",
      "metadata": {
        "id": "-hFbAeqp4O1Q",
        "colab_type": "code",
        "colab": {}
      },
      "source": [
        "    # test_url = 'https://www.amazon.com.mx/gp/bestsellers/musical-instruments/ref=zg_bs_nav_0'\n",
        "    # test_soup, test_status = extract_soup(test_url, False)\n",
        "    # print(test_status)\n",
        "    # print(type(test_status))"
      ],
      "execution_count": 4,
      "outputs": []
    },
    {
      "cell_type": "code",
      "metadata": {
        "id": "3HmEasZNlXC7",
        "colab_type": "code",
        "colab": {}
      },
      "source": [
        "def top_amazon_boxes(soup):\n",
        "    boxes = soup.find_all('div', attrs={'class':\"a-section a-spacing-none aok-relative\"})\n",
        "\n",
        "    return boxes"
      ],
      "execution_count": 5,
      "outputs": []
    },
    {
      "cell_type": "code",
      "metadata": {
        "id": "OCG4GpMGkmNp",
        "colab_type": "code",
        "colab": {}
      },
      "source": [
        "def centered_string(string):\n",
        "    rest = 21 - len(string)\n",
        "    n_spaces = int(rest/2)\n",
        "\n",
        "    string_spaces = ' ' * n_spaces\n",
        "    \n",
        "    centered_string = string_spaces + string + string_spaces\n",
        "\n",
        "    if len(centered_string)<21:\n",
        "        centered_string = ' ' + centered_string\n",
        "\n",
        "    return centered_string"
      ],
      "execution_count": 6,
      "outputs": []
    },
    {
      "cell_type": "code",
      "metadata": {
        "id": "SspqBM0JldR8",
        "colab_type": "code",
        "colab": {
          "base_uri": "https://localhost:8080/",
          "height": 35
        },
        "outputId": "6b5cb34c-8aea-4e89-9d48-c69ba7a87d38"
      },
      "source": [
        "centered_grocery = centered_string('grocery')\n",
        "centered_grocery"
      ],
      "execution_count": 7,
      "outputs": [
        {
          "output_type": "execute_result",
          "data": {
            "application/vnd.google.colaboratory.intrinsic+json": {
              "type": "string"
            },
            "text/plain": [
              "'       grocery       '"
            ]
          },
          "metadata": {
            "tags": []
          },
          "execution_count": 7
        }
      ]
    },
    {
      "cell_type": "code",
      "metadata": {
        "id": "1FRWXKFZlcUx",
        "colab_type": "code",
        "colab": {}
      },
      "source": [
        "def scrape_boxes(boxes, domain):\n",
        "    \n",
        "    ranks = [None]*50\n",
        "    product_names = [None]*50\n",
        "    image_urls = [None]*50\n",
        "    product_links = [None]*50\n",
        "    star_ratings = [None]*50\n",
        "    reviews = [None]*50\n",
        "    authors_companies = [None]*50\n",
        "    editions_consoles = [None]*50\n",
        "    min_prices = [None]*50\n",
        "    max_prices = [None]*50\n",
        "    time_log = [None]*50\n",
        "\n",
        "    amz_mx_url = 'https://www.amazon.com.mx'\n",
        "    \n",
        "    n_box = 0\n",
        "    for box in boxes:\n",
        "        \n",
        "        time_log[n_box] = datetime.now()\n",
        "\n",
        "        rank_box = box.find_all('span', attrs={'class':'zg-badge-text'})\n",
        "        products_and_image_box = box.find_all('div', attrs={'class' : 'a-section a-spacing-small'})\n",
        "        product_links_box = box.find_all('a', attrs={'class' : 'a-link-normal'})\n",
        "        star_ratings_box = box.find_all('span', attrs={'class' : 'a-icon-alt'})\n",
        "        reviews_box = box.find_all('a', attrs={'class' : 'a-size-small a-link-normal'})\n",
        "        authors_company_box = box.find_all('span', attrs={'class' : 'a-size-small a-color-base'})\n",
        "        editions_console_box = box.find_all('span', attrs={'class' : 'a-size-small a-color-secondary'})\n",
        "        prices_box = box.find_all('span', attrs={'class' : \"p13n-sc-price\"})\n",
        "        \n",
        "        \n",
        "        ranks[n_box] = rank_box[0].get_text()\n",
        "\n",
        "        #In case the element was removed (yes, it happens)\n",
        "        try:\n",
        "            product_names[n_box] = products_and_image_box[0].img.get('alt')\n",
        "            image_urls[n_box] = products_and_image_box[0].img.get('src')\n",
        "            product_links[n_box] = amz_mx_url + product_links_box[0].get('href')\n",
        "        except: pass\n",
        "\n",
        "        try:\n",
        "            star_ratings[n_box] = float(star_ratings_box[0].get_text()[:3])\n",
        "            reviews[n_box] = int(reviews_box[0].get_text().replace(',',''))\n",
        "        except: pass\n",
        "        #Individual cases\n",
        "        try:\n",
        "            authors_companies[n_box] = authors_company_box[0].get_text()\n",
        "        except:pass\n",
        "        \n",
        "        try:\n",
        "            editions_consoles[n_box] = editions_console_box[0].get_text()\n",
        "        except:pass\n",
        "\n",
        "        #Courrencies\n",
        "        if domain == 'mx':\n",
        "            coin_symbol = 1\n",
        "        elif domain == 'br':\n",
        "            coin_symbol = 2\n",
        "\n",
        "        try:\n",
        "            min_prices[n_box] = float(prices_box[0].get_text()[coin_symbol:].replace(',',''))\n",
        "        except: pass\n",
        "\n",
        "        try:    \n",
        "            max_prices[n_box] = float(prices_box[1].get_text()[coin_symbol:].replace(',',''))\n",
        "        except: pass\n",
        "\n",
        "        n_box = n_box + 1 \n",
        "\n",
        "    # Dictionary\n",
        "    boxes_dict = {\n",
        "    'time' : time_log,\n",
        "    \"Rank\" : ranks,\n",
        "    \"Product Names\": product_names,\n",
        "    \"Image urls\": image_urls,\n",
        "    \"Product links\": product_links,\n",
        "    \"Stars\": star_ratings,\n",
        "    \"Reviews\": reviews,\n",
        "    \"Authors/Company\": authors_companies,\n",
        "    \"Edition/Console\": editions_consoles,\n",
        "    \"Price_std_or_min\" : min_prices,\n",
        "    \"Max_prices\" : max_prices\n",
        "    }\n",
        "\n",
        "    return boxes_dict"
      ],
      "execution_count": 8,
      "outputs": []
    },
    {
      "cell_type": "code",
      "metadata": {
        "id": "Q6BytG0_NY0z",
        "colab_type": "code",
        "colab": {}
      },
      "source": [
        "mx_dict = {\n",
        "    'top_food_and_drinks':'grocery',\n",
        "    'top_automotive':'automotive',\n",
        "    'top_baby':'baby',\n",
        "    'top_sports':'sports',\n",
        "    'top_amazon_devices':'amazon-devices',\n",
        "    'top_electronics':'electronics',\n",
        "    'top_tools':'tools',\n",
        "    'top_kitchen':'kitchen',\n",
        "    'top_industrial_emp_cience':'industrial',\n",
        "    'top_musical_instruments':'musical-instruments',\n",
        "    'top_toys':'toys',\n",
        "    'top_books':'books',\n",
        "    'top_music':'music',\n",
        "    'top_officeproduct':'officeproduct',\n",
        "    'top_movies':'dvd',\n",
        "    'top_handmade':'handmade',\n",
        "    'top_pet_supplies':'pet-supplies',\n",
        "    'top_fashion':'shoes',\n",
        "    'top_health':'hpc',\n",
        "    'top_software':'software',\n",
        "    'top_kindle':'digital-text',\n",
        "    'top_videogames':'videogames'\n",
        "    }"
      ],
      "execution_count": 9,
      "outputs": []
    },
    {
      "cell_type": "code",
      "metadata": {
        "id": "FkWwKXVsdSCl",
        "colab_type": "code",
        "colab": {}
      },
      "source": [
        ""
      ],
      "execution_count": 9,
      "outputs": []
    },
    {
      "cell_type": "code",
      "metadata": {
        "colab_type": "code",
        "id": "oREOQDLudTSn",
        "colab": {}
      },
      "source": [
        "br_dict = {\n",
        "    'top_amazon_devices':'amazon-devices',\n",
        "    'top_baby':'baby-products',\n",
        "    'top_sports':'sports',\n",
        "    'top_electronics':'electronics',\n",
        "    'top_tools':'hi',\n",
        "    'top_kitchen':'kitchen',\n",
        "    'top_toys':'toys',\n",
        "    'top_books':'books',\n",
        "    'top_music':'music',\n",
        "    'top_officeproduct':'office',\n",
        "    'top_movies':'dvd',\n",
        "    'top_pet_supplies':'pet-products',\n",
        "    'top_fashion':'fashion',\n",
        "    'top_health':'hpc',\n",
        "    'top_software':'computers',\n",
        "    'top_kindle':'digital-text',\n",
        "    'top_videogames':'videogames',\n",
        "    'top_apps':'mobile-apps',\n",
        "    'top_beauty':'beauty',\n",
        "    'top_home':'home',\n",
        "    'top_home_appliances':'appliances',\n",
        "    'top_pool_garden':'lawn-and-garden',\n",
        "    'top_furniture':'furniture'\n",
        "}"
      ],
      "execution_count": 10,
      "outputs": []
    },
    {
      "cell_type": "code",
      "metadata": {
        "id": "L_in6wP3hLCW",
        "colab_type": "code",
        "colab": {}
      },
      "source": [
        "domain_dict = {'Mexico' : 'mx',\n",
        "               'Brazil' : 'br'}"
      ],
      "execution_count": 11,
      "outputs": []
    },
    {
      "cell_type": "code",
      "metadata": {
        "id": "yW-MVOLRhAZ5",
        "colab_type": "code",
        "colab": {}
      },
      "source": [
        "domain_path = '4SS/4SS_db/testing/{}'"
      ],
      "execution_count": 12,
      "outputs": []
    },
    {
      "cell_type": "code",
      "metadata": {
        "id": "A_wiGGYWOdwE",
        "colab_type": "code",
        "colab": {
          "base_uri": "https://localhost:8080/",
          "height": 35
        },
        "outputId": "a80964ab-60b9-4923-d85d-44669d0d665e"
      },
      "source": [
        "date = datetime.utcnow()\n",
        "date"
      ],
      "execution_count": 13,
      "outputs": [
        {
          "output_type": "execute_result",
          "data": {
            "text/plain": [
              "datetime.datetime(2020, 8, 4, 22, 42, 11, 78677)"
            ]
          },
          "metadata": {
            "tags": []
          },
          "execution_count": 13
        }
      ]
    },
    {
      "cell_type": "code",
      "metadata": {
        "id": "d8oVgPXHYE-p",
        "colab_type": "code",
        "colab": {}
      },
      "source": [
        "# !ls\n",
        "# %cd 'drive/My Drive/Colab Notebooks/4SS/4SS_db/testing'"
      ],
      "execution_count": 14,
      "outputs": []
    },
    {
      "cell_type": "code",
      "metadata": {
        "id": "xRUSNVCPLsYF",
        "colab_type": "code",
        "colab": {}
      },
      "source": [
        "# %cd br"
      ],
      "execution_count": 15,
      "outputs": []
    },
    {
      "cell_type": "code",
      "metadata": {
        "id": "J1KuAkG4L0Rj",
        "colab_type": "code",
        "colab": {}
      },
      "source": [
        "# for categogry in br_dict:\n",
        "#     %mkdir categogry"
      ],
      "execution_count": 16,
      "outputs": []
    },
    {
      "cell_type": "code",
      "metadata": {
        "id": "lkNJg21yTX8c",
        "colab_type": "code",
        "colab": {}
      },
      "source": [
        "from google.colab import output"
      ],
      "execution_count": 17,
      "outputs": []
    },
    {
      "cell_type": "code",
      "metadata": {
        "id": "CUMnPywRNfuM",
        "colab_type": "code",
        "colab": {}
      },
      "source": [
        "def scrap_amazon():\n",
        "    log_status = [None]*45\n",
        "    log_date = [None]*45\n",
        "    log_domain = [None]*45\n",
        "    log_category = [None]*45\n",
        "\n",
        "    n_log = 0\n",
        "\n",
        "    country_count = 0\n",
        "    print('          Log Date          | Country |        category       | status | Loaded |')\n",
        "\n",
        "    for country_name in domain_dict:\n",
        "        country_count = country_count + 1\n",
        "\n",
        "        if country_count > 1:\n",
        "            print(' -------------------------- | ------- | --------------------- | ------ | ------ |')\n",
        "\n",
        "        country = domain_dict[country_name]\n",
        "\n",
        "        if country == 'mx':\n",
        "            categories_dict = mx_dict\n",
        "\n",
        "        elif country == 'br':\n",
        "            categories_dict = br_dict\n",
        "\n",
        "        for key in categories_dict:\n",
        "\n",
        "            log_date[n_log] = datetime.now()\n",
        "            print(f' {log_date[n_log]}', end=' | ')\n",
        "            \n",
        "            log_domain[n_log] = country\n",
        "            print(f'   {log_domain[n_log]}  ', end=' | ')\n",
        "\n",
        "            category = categories_dict[key]\n",
        "            log_category[n_log] = category\n",
        "            centered_category = centered_string(log_category[n_log])\n",
        "            print(centered_category, end=' | ')\n",
        "            \n",
        "            url = f'https://www.amazon.com.{country}/gp/bestsellers/{category}/ref=zg_bs_nav_0'\n",
        "            \n",
        "            soup, status = extract_soup(url, preview=False)\n",
        "            \n",
        "            if status == 503:\n",
        "                while status == 503:\n",
        "                    time.sleep(1)\n",
        "                    soup, status = extract_soup(url, preview=False)\n",
        "                    log_status[n_log] = status\n",
        "                    log_date[n_log] = datetime.now()\n",
        "\n",
        "            if status ==200:\n",
        "                boxes = top_amazon_boxes(soup)\n",
        "\n",
        "                amz_key_top_boxes = scrape_boxes(boxes, country)\n",
        "\n",
        "                \n",
        "\n",
        "                log_status[n_log] = status\n",
        "                print(f'  {log_status[n_log]} ', end=' | ')\n",
        "                \n",
        "                amz_key_top_boxes_df = pd.DataFrame.from_dict(amz_key_top_boxes)\n",
        "\n",
        "                test_time = datetime.now()\n",
        "                test_time = test_time.strftime('%Y-%m-%d %H_%M')\n",
        "\n",
        "                csv_file = f'/{country}-test_{category}_{test_time}.csv'\n",
        "                dir_csv_testing = f'/content/drive/My Drive/Colab Notebooks/4SS/4SS_db/testing/{country}/{category}/{csv_file}'\n",
        "\n",
        "                #Creating csv files\n",
        "                amz_key_top_boxes_df.to_csv(dir_csv_testing, sep = '|', index = False)\n",
        "\n",
        "                excel_file = f'/{country}-test_{category}_{test_time}.xlsx'\n",
        "                dir_excel_testing = f'/content/drive/My Drive/Colab Notebooks/4SS/4SS_db/testing/{country}/{category}/{excel_file}'\n",
        "                \n",
        "                #Creating xlsx files\n",
        "                amz_key_top_boxes_df.to_excel(dir_excel_testing, index = False)\n",
        "\n",
        "                time.sleep(0.05)\n",
        "\n",
        "                print('  Yes  |')\n",
        "\n",
        "            else:\n",
        "                log_status[n_log] == status\n",
        "                print(f'  {log_status[n_log]} ', end=' | ')\n",
        "                \n",
        "                log_date[n_log] = datetime.now()\n",
        "                print(' +.No.+ |')\n",
        "\n",
        "            n_log = n_log + 1\n",
        "\n",
        "    log_dict = {\n",
        "        'log_date' : log_date,\n",
        "        'category' : log_category,\n",
        "        'country' : log_domain,\n",
        "        'status' : log_status\n",
        "    }\n",
        "\n",
        "    log_df = pd.DataFrame.from_dict(log_dict)\n",
        "\n",
        "    log_file = f'/log-test_{test_time}.csv'\n",
        "    dir_log_testing = f'/content/drive/My Drive/Colab Notebooks/4SS/4SS_db/testing/logs/{log_file}'\n",
        "\n",
        "    log_df.to_csv(dir_log_testing, index = False)\n",
        "\n",
        "    log_print = \"\"\"\n",
        "                                ----------------------\n",
        "                                |   Log file loaded   |\n",
        "                                ----------------------\n",
        "\n",
        "    \"\"\"\n",
        "    print(log_print)"
      ],
      "execution_count": 24,
      "outputs": []
    },
    {
      "cell_type": "code",
      "metadata": {
        "id": "pVWqk3m6xFdS",
        "colab_type": "code",
        "colab": {}
      },
      "source": [
        "def scrap_amazon_times(n_times, minutes):\n",
        "    counter = 0\n",
        "    for t in range(n_times):\n",
        "        for min in range(minutes):\n",
        "            print(min, end='')\n",
        "            for wait in range(3):\n",
        "                time.sleep(15)\n",
        "                print('.', end='')\n",
        "        \n",
        "        print(f'\\nScrap No: {counter + 1}\\n')\n",
        "        scrap_amazon()\n",
        "        counter = counter + 1"
      ],
      "execution_count": 30,
      "outputs": []
    },
    {
      "cell_type": "code",
      "metadata": {
        "id": "mLGJwY9tbGcL",
        "colab_type": "code",
        "colab": {
          "base_uri": "https://localhost:8080/",
          "height": 1000
        },
        "outputId": "9bf75511-8c71-4c7b-862b-6932a98ccf0e"
      },
      "source": [
        "scrap_amazon_times(n_times= 1, minutes= 15)"
      ],
      "execution_count": 32,
      "outputs": [
        {
          "output_type": "stream",
          "text": [
            "0...1...2...3...4...5...6...7...8...9...10...11...12...13...14...\n",
            "Scrap No: 1\n",
            "\n",
            "          Log Date          | Country |        category       | status | Loaded |\n",
            " 2020-08-05 04:12:14.136461 |    mx   |        grocery        |   200  |   Yes  |\n",
            " 2020-08-05 04:12:15.285512 |    mx   |       automotive      |   200  |   Yes  |\n",
            " 2020-08-05 04:12:16.400622 |    mx   |          baby         |   200  |   Yes  |\n",
            " 2020-08-05 04:12:17.458539 |    mx   |         sports        |   200  |   Yes  |\n",
            " 2020-08-05 04:12:18.363098 |    mx   |     amazon-devices    |   200  |   Yes  |\n",
            " 2020-08-05 04:12:19.440575 |    mx   |      electronics      |   200  |   Yes  |\n",
            " 2020-08-05 04:12:20.737677 |    mx   |         tools         |   200  |   Yes  |\n",
            " 2020-08-05 04:12:21.919320 |    mx   |        kitchen        |   200  |   Yes  |\n",
            " 2020-08-05 04:12:22.972393 |    mx   |       industrial      |   200  |   Yes  |\n",
            " 2020-08-05 04:12:23.910278 |    mx   |  musical-instruments  |   200  |   Yes  |\n",
            " 2020-08-05 04:12:24.921707 |    mx   |          toys         |   200  |   Yes  |\n",
            " 2020-08-05 04:12:25.939915 |    mx   |         books         |   200  |   Yes  |\n",
            " 2020-08-05 04:12:27.004758 |    mx   |         music         |   200  |   Yes  |\n",
            " 2020-08-05 04:12:28.011598 |    mx   |     officeproduct     |   200  |   Yes  |\n",
            " 2020-08-05 04:12:29.134117 |    mx   |          dvd          |   200  |   Yes  |\n",
            " 2020-08-05 04:12:30.220151 |    mx   |        handmade       |   200  |   Yes  |\n",
            " 2020-08-05 04:12:31.230111 |    mx   |      pet-supplies     |   200  |   Yes  |\n",
            " 2020-08-05 04:12:32.381529 |    mx   |         shoes         |   200  |   Yes  |\n",
            " 2020-08-05 04:12:33.416655 |    mx   |          hpc          |   200  |   Yes  |\n",
            " 2020-08-05 04:12:34.359892 |    mx   |        software       |   200  |   Yes  |\n",
            " 2020-08-05 04:12:35.329598 |    mx   |      digital-text     |   200  |   Yes  |\n",
            " 2020-08-05 04:12:36.239398 |    mx   |       videogames      |   200  |   Yes  |\n",
            " -------------------------- | ------- | --------------------- | ------ | ------ |\n",
            " 2020-08-05 04:12:37.588210 |    br   |     amazon-devices    |   200  |   Yes  |\n",
            " 2020-08-05 04:12:38.592010 |    br   |     baby-products     |   200  |   Yes  |\n",
            " 2020-08-05 04:12:40.017594 |    br   |         sports        |   200  |   Yes  |\n",
            " 2020-08-05 04:12:41.266419 |    br   |      electronics      |   200  |   Yes  |\n",
            " 2020-08-05 04:12:42.462796 |    br   |           hi          |   200  |   Yes  |\n",
            " 2020-08-05 04:12:43.591391 |    br   |        kitchen        |   200  |   Yes  |\n",
            " 2020-08-05 04:12:44.845756 |    br   |          toys         |   200  |   Yes  |\n",
            " 2020-08-05 04:12:46.018381 |    br   |         books         |   200  |   Yes  |\n",
            " 2020-08-05 04:12:47.602865 |    br   |         music         |   200  |   Yes  |\n",
            " 2020-08-05 04:12:48.850594 |    br   |         office        |   200  |   Yes  |\n",
            " 2020-08-05 04:12:50.250702 |    br   |          dvd          |   200  |   Yes  |\n",
            " 2020-08-05 04:12:51.575679 |    br   |      pet-products     |   200  |   Yes  |\n",
            " 2020-08-05 04:12:52.695015 |    br   |        fashion        |   200  |   Yes  |\n",
            " 2020-08-05 04:12:53.854156 |    br   |          hpc          |   200  |   Yes  |\n",
            " 2020-08-05 04:12:55.044875 |    br   |       computers       |   200  |   Yes  |\n",
            " 2020-08-05 04:12:56.455233 |    br   |      digital-text     |   200  |   Yes  |\n",
            " 2020-08-05 04:12:57.688262 |    br   |       videogames      |   200  |   Yes  |\n",
            " 2020-08-05 04:12:59.248575 |    br   |      mobile-apps      |   200  |   Yes  |\n",
            " 2020-08-05 04:13:00.467584 |    br   |         beauty        |   200  |   Yes  |\n",
            " 2020-08-05 04:13:01.667821 |    br   |          home         |   200  |   Yes  |\n",
            " 2020-08-05 04:13:02.860043 |    br   |       appliances      |   200  |   Yes  |\n",
            " 2020-08-05 04:13:04.055230 |    br   |    lawn-and-garden    |   200  |   Yes  |\n",
            " 2020-08-05 04:13:05.120225 |    br   |       furniture       |   200  |   Yes  |\n",
            "\n",
            "                                ----------------------\n",
            "                                |   Log file loaded   |\n",
            "                                ----------------------\n",
            "\n",
            "    \n"
          ],
          "name": "stdout"
        }
      ]
    }
  ]
}